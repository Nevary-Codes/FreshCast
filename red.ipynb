{
 "cells": [
  {
   "cell_type": "code",
   "execution_count": 2,
   "id": "72439878",
   "metadata": {},
   "outputs": [],
   "source": [
    "import requests\n",
    "import pandas as pd"
   ]
  },
  {
   "cell_type": "code",
   "execution_count": 3,
   "id": "88dcc870",
   "metadata": {},
   "outputs": [],
   "source": [
    "def get_weather_forecast(start_date, end_date):\n",
    "    response = requests.get(f\"https://api.open-meteo.com/v1/forecast?latitude=52.52&longitude=13.41&daily=rain_sum&daily=temperature_2m_mean&start_date={start_date}&end_date={end_date}\")\n",
    "    # print(\"Returned\", response.status_code)\n",
    "    weather_data = response.json()\n",
    "    # print(weather_data)\n",
    "    return weather_data"
   ]
  },
  {
   "cell_type": "code",
   "execution_count": 20,
   "id": "8932f389",
   "metadata": {},
   "outputs": [],
   "source": [
    "from datetime import timedelta\n",
    "from flask import jsonify\n",
    "import joblib\n",
    "\n",
    "model = joblib.load(\"ML/freshcast_xgb_model.joblib\")\n",
    "label_encoder = joblib.load(\"ML/product_label_encoder.joblib\")\n",
    "\n",
    "# Load dataset\n",
    "df = pd.read_csv(\"ML/freshcast_dataset.csv\")\n",
    "df['date'] = pd.to_datetime(df['date'])\n",
    "df.sort_values(['product', 'date'], inplace=True)\n",
    "\n",
    "def forecast(product):\n",
    "    if product not in df['product'].unique():\n",
    "        return jsonify({\"error\": \"Product not found\"}), 404\n",
    "\n",
    "    # Get recent 10 days of data for selected product\n",
    "    product_df = df[df['product'] == product].copy()\n",
    "    product_df = product_df.sort_values('date').tail(10).copy()\n",
    "    product_df['date'] = pd.to_datetime(product_df['date'])\n",
    "\n",
    "    forecast_dates = [\n",
    "    (product_df['date'].max() + timedelta(days=i+1)).strftime(\"%Y-%m-%d\")\n",
    "    for i in range(7)\n",
    "]\n",
    "\n",
    "    # Create features\n",
    "    # product_df['day_of_week'] = product_df['date'].dt.dayofweek\n",
    "    # product_df['month'] = product_df['date'].dt.month\n",
    "    # product_df['product_id'] = label_encoder.transform([product])[0]\n",
    "\n",
    "    weather = get_weather_forecast(str(forecast_dates[0]), str(forecast_dates[-1]))\n",
    "    input_data_list = []\n",
    "    \n",
    "    for i in range(7):\n",
    "        input_data = {}\n",
    "        input_data[\"temperature\"] = weather[\"daily\"][\"temperature_2m_mean\"][i]\n",
    "        input_data[\"rainfall_mm\"] = weather[\"daily\"][\"rain_sum\"][i]\n",
    "        date_i = pd.to_datetime(weather[\"daily\"][\"time\"][i])\n",
    "        input_data[\"day_of_week\"] = date_i.dayofweek\n",
    "        input_data[\"month\"] = date_i.month\n",
    "        input_data[\"product_id\"] = label_encoder.transform([product])[0]\n",
    "        input_data[\"sales_lag_1\"] = product_df.iloc[-1]['sales']\n",
    "        input_data[\"sales_lag_2\"] = product_df.iloc[-2]['sales']\n",
    "        input_data[\"sales_lag_3\"] = product_df.iloc[-3]['sales']\n",
    "        input_data[\"is_holiday\"] = 0\n",
    "\n",
    "        input_data_list.append(input_data)\n",
    "\n",
    "    # print(input_data_list)\n",
    "\n",
    "    # Simulate next 7 days\n",
    "    predictions = []\n",
    "\n",
    "    for i in range(7):\n",
    "        # input_df = pd.DataFrame([input_data_list[i]])\n",
    "        input_df = pd.DataFrame([input_data_list[i]])[['product_id', 'temperature', 'rainfall_mm', 'is_holiday', 'day_of_week', 'month', 'sales_lag_1', 'sales_lag_2', 'sales_lag_3']]\n",
    "        pred = model.predict(input_df)[0]\n",
    "        predictions.append(round(pred))\n",
    "\n",
    "        # Update lag features for next prediction\n",
    "        input_data['sales_lag_3'] = input_data['sales_lag_2']\n",
    "        input_data['sales_lag_2'] = input_data['sales_lag_1']\n",
    "        input_data['sales_lag_1'] = pred\n",
    "\n",
    "        input_data['day_of_week'] = (input_data['day_of_week'] + 1) % 7\n",
    "\n",
    "    return {\n",
    "        \"product\": product,\n",
    "        \"dates\": [pd.to_datetime(d).strftime(\"%Y-%m-%d\") for d in forecast_dates],\n",
    "        \"predicted\": predictions,\n",
    "        \"total\": sum(predictions)\n",
    "    }"
   ]
  },
  {
   "cell_type": "code",
   "execution_count": 21,
   "id": "c0fff742",
   "metadata": {},
   "outputs": [
    {
     "data": {
      "text/plain": [
       "{'product': 'Chicken (1kg)',\n",
       " 'dates': ['2025-07-01',\n",
       "  '2025-07-02',\n",
       "  '2025-07-03',\n",
       "  '2025-07-04',\n",
       "  '2025-07-05',\n",
       "  '2025-07-06',\n",
       "  '2025-07-07'],\n",
       " 'predicted': [74, 73, 80, 76, 76, 76, 78],\n",
       " 'total': 533}"
      ]
     },
     "execution_count": 21,
     "metadata": {},
     "output_type": "execute_result"
    }
   ],
   "source": [
    "forecast(\"Chicken (1kg)\")"
   ]
  },
  {
   "cell_type": "code",
   "execution_count": 22,
   "id": "3d2602ae",
   "metadata": {},
   "outputs": [
    {
     "name": "stdout",
     "output_type": "stream",
     "text": [
      "Bananas (1kg)\n",
      "Bread Loaf\n",
      "Chicken (1kg)\n",
      "Lettuce (1 head)\n",
      "Milk (1L)\n",
      "Tomatoes (1kg)\n"
     ]
    }
   ],
   "source": [
    "df = pd.read_csv(\"ML/freshcast_dataset.csv\")\n",
    "total_sales = df.groupby(\"product\")[\"sales\"].sum()\n",
    "products = total_sales.keys()\n",
    "for i in products:\n",
    "    print(i)"
   ]
  },
  {
   "cell_type": "code",
   "execution_count": 28,
   "id": "bce64163",
   "metadata": {},
   "outputs": [
    {
     "data": {
      "text/plain": [
       "[{'product': 'Bananas (1kg)',\n",
       "  'dates': ['2025-07-01',\n",
       "   '2025-07-02',\n",
       "   '2025-07-03',\n",
       "   '2025-07-04',\n",
       "   '2025-07-05',\n",
       "   '2025-07-06',\n",
       "   '2025-07-07'],\n",
       "  'predicted': [92, 94, 93, 92, 95, 95, 94],\n",
       "  'total': 655,\n",
       "  'total_sales': np.int64(661)},\n",
       " {'product': 'Bread Loaf',\n",
       "  'dates': ['2025-07-01',\n",
       "   '2025-07-02',\n",
       "   '2025-07-03',\n",
       "   '2025-07-04',\n",
       "   '2025-07-05',\n",
       "   '2025-07-06',\n",
       "   '2025-07-07'],\n",
       "  'predicted': [88, 88, 88, 88, 88, 88, 80],\n",
       "  'total': 608,\n",
       "  'total_sales': np.int64(572)},\n",
       " {'product': 'Chicken (1kg)',\n",
       "  'dates': ['2025-07-01',\n",
       "   '2025-07-02',\n",
       "   '2025-07-03',\n",
       "   '2025-07-04',\n",
       "   '2025-07-05',\n",
       "   '2025-07-06',\n",
       "   '2025-07-07'],\n",
       "  'predicted': [74, 73, 80, 76, 76, 76, 78],\n",
       "  'total': 533,\n",
       "  'total_sales': np.int64(532)},\n",
       " {'product': 'Lettuce (1 head)',\n",
       "  'dates': ['2025-07-01',\n",
       "   '2025-07-02',\n",
       "   '2025-07-03',\n",
       "   '2025-07-04',\n",
       "   '2025-07-05',\n",
       "   '2025-07-06',\n",
       "   '2025-07-07'],\n",
       "  'predicted': [67, 74, 74, 73, 73, 73, 67],\n",
       "  'total': 501,\n",
       "  'total_sales': np.int64(447)},\n",
       " {'product': 'Milk (1L)',\n",
       "  'dates': ['2025-07-01',\n",
       "   '2025-07-02',\n",
       "   '2025-07-03',\n",
       "   '2025-07-04',\n",
       "   '2025-07-05',\n",
       "   '2025-07-06',\n",
       "   '2025-07-07'],\n",
       "  'predicted': [92, 94, 91, 92, 92, 92, 96],\n",
       "  'total': 649,\n",
       "  'total_sales': np.int64(699)},\n",
       " {'product': 'Tomatoes (1kg)',\n",
       "  'dates': ['2025-07-01',\n",
       "   '2025-07-02',\n",
       "   '2025-07-03',\n",
       "   '2025-07-04',\n",
       "   '2025-07-05',\n",
       "   '2025-07-06',\n",
       "   '2025-07-07'],\n",
       "  'predicted': [65, 69, 70, 68, 68, 68, 79],\n",
       "  'total': 487,\n",
       "  'total_sales': np.int64(623)}]"
      ]
     },
     "execution_count": 28,
     "metadata": {},
     "output_type": "execute_result"
    }
   ],
   "source": [
    "df = pd.read_csv(\"ML/freshcast_dataset.csv\")\n",
    "\n",
    "df[\"date\"] = pd.to_datetime(df[\"date\"])\n",
    "\n",
    "end_date = df[\"date\"].max()\n",
    "start_date = end_date - timedelta(days=6)\n",
    "\n",
    "recent_df = df[(df[\"date\"] >= start_date) & (df[\"date\"] <= end_date)]\n",
    "\n",
    "recent_sales = recent_df.groupby(\"product\")[\"sales\"].sum()\n",
    "forecasts = []\n",
    "for i in recent_sales.keys():\n",
    "    fore = forecast(i)\n",
    "    fore[\"total_sales\"] = recent_sales[i]\n",
    "    forecasts.append(fore)\n",
    "    \n",
    "forecasts"
   ]
  },
  {
   "cell_type": "code",
   "execution_count": 40,
   "id": "80c489d3",
   "metadata": {},
   "outputs": [],
   "source": [
    "def forecast_past(product):\n",
    "    if product not in df['product'].unique():\n",
    "        return jsonify({\"error\": \"Product not found\"}), 404\n",
    "\n",
    "    product_df = df[df['product'] == product].copy()\n",
    "    product_df['date'] = pd.to_datetime(product_df['date'])\n",
    "    product_df = product_df.sort_values('date')\n",
    "\n",
    "    # Need at least 10 days of data to generate 7 lagged predictions\n",
    "    if len(product_df) < 10:\n",
    "        return jsonify({\"error\": \"Not enough data to generate past forecast\"}), 400\n",
    "\n",
    "    past_df = product_df.tail(10).reset_index(drop=True)\n",
    "\n",
    "    predicted = []\n",
    "    actual = []\n",
    "    dates = []\n",
    "\n",
    "    for i in range(3, 10):\n",
    "        row = past_df.iloc[i]\n",
    "        date_i = pd.to_datetime(row['date'])\n",
    "        dates.append(date_i.strftime(\"%Y-%m-%d\"))\n",
    "        actual.append(int(row['sales']))\n",
    "\n",
    "        input_data = {\n",
    "            'product_id': label_encoder.transform([product])[0],\n",
    "            'temperature': row['temperature'],\n",
    "            'rainfall_mm': row['rainfall_mm'],\n",
    "            'is_holiday': row['is_holiday'],\n",
    "            'day_of_week': date_i.dayofweek,\n",
    "            'month': date_i.month,\n",
    "            'sales_lag_1': past_df.iloc[i-1]['sales'],\n",
    "            'sales_lag_2': past_df.iloc[i-2]['sales'],\n",
    "            'sales_lag_3': past_df.iloc[i-3]['sales']\n",
    "        }\n",
    "\n",
    "        input_df = pd.DataFrame([input_data])[[\n",
    "            'product_id', 'temperature', 'rainfall_mm', 'is_holiday',\n",
    "            'day_of_week', 'month', 'sales_lag_1', 'sales_lag_2', 'sales_lag_3'\n",
    "        ]]\n",
    "\n",
    "        pred = model.predict(input_df)[0]\n",
    "        predicted.append(round(pred))\n",
    "\n",
    "    return {\n",
    "        \"product\": product,\n",
    "        \"dates\": dates,\n",
    "        \"actual\": actual,\n",
    "        \"predicted\": predicted,\n",
    "        \"total_actual\": sum(actual),\n",
    "        \"total_predicted\": sum(predicted),\n",
    "        \"accuracy\": 100 - abs(((sum(actual) - sum(predicted)) / sum(actual)) * 100)\n",
    "    }"
   ]
  },
  {
   "cell_type": "code",
   "execution_count": 41,
   "id": "f75f434b",
   "metadata": {},
   "outputs": [
    {
     "data": {
      "text/plain": [
       "{'product': 'Chicken (1kg)',\n",
       " 'dates': ['2025-06-24',\n",
       "  '2025-06-25',\n",
       "  '2025-06-26',\n",
       "  '2025-06-27',\n",
       "  '2025-06-28',\n",
       "  '2025-06-29',\n",
       "  '2025-06-30'],\n",
       " 'actual': [84, 88, 77, 77, 62, 74, 70],\n",
       " 'predicted': [82, 85, 78, 82, 72, 73, 72],\n",
       " 'total_actual': 532,\n",
       " 'total_predicted': 544,\n",
       " 'accuracy': 97.74436090225564}"
      ]
     },
     "execution_count": 41,
     "metadata": {},
     "output_type": "execute_result"
    }
   ],
   "source": [
    "forecast_past(\"Chicken (1kg)\")"
   ]
  },
  {
   "cell_type": "code",
   "execution_count": 32,
   "id": "bad0dbf8",
   "metadata": {},
   "outputs": [
    {
     "name": "stdout",
     "output_type": "stream",
     "text": [
      "<class 'pandas.core.frame.DataFrame'>\n",
      "RangeIndex: 180 entries, 0 to 179\n",
      "Data columns (total 8 columns):\n",
      " #   Column       Non-Null Count  Dtype  \n",
      "---  ------       --------------  -----  \n",
      " 0   date         180 non-null    object \n",
      " 1   product      180 non-null    object \n",
      " 2   sales        180 non-null    int64  \n",
      " 3   temperature  180 non-null    float64\n",
      " 4   rainfall_mm  180 non-null    int64  \n",
      " 5   is_holiday   180 non-null    int64  \n",
      " 6   event        6 non-null      object \n",
      " 7   quantity     180 non-null    int64  \n",
      "dtypes: float64(1), int64(4), object(3)\n",
      "memory usage: 11.4+ KB\n"
     ]
    }
   ],
   "source": [
    "df = pd.read_csv(\"ML/freshcast_dataset.csv\")\n",
    "df.info()"
   ]
  },
  {
   "cell_type": "code",
   "execution_count": 33,
   "id": "36e6e266",
   "metadata": {},
   "outputs": [
    {
     "data": {
      "text/plain": [
       "0             Milk (1L)\n",
       "1            Bread Loaf\n",
       "2         Bananas (1kg)\n",
       "3             Milk (1L)\n",
       "4            Bread Loaf\n",
       "             ...       \n",
       "175    Lettuce (1 head)\n",
       "176       Chicken (1kg)\n",
       "177      Tomatoes (1kg)\n",
       "178    Lettuce (1 head)\n",
       "179       Chicken (1kg)\n",
       "Name: product, Length: 180, dtype: object"
      ]
     },
     "execution_count": 33,
     "metadata": {},
     "output_type": "execute_result"
    }
   ],
   "source": [
    "df[\"product\"]"
   ]
  },
  {
   "cell_type": "code",
   "execution_count": 37,
   "id": "bd8fd8c3",
   "metadata": {},
   "outputs": [
    {
     "data": {
      "text/plain": [
       "[{'product': 'Milk (1L)',\n",
       "  'dates': ['2025-06-24',\n",
       "   '2025-06-25',\n",
       "   '2025-06-26',\n",
       "   '2025-06-27',\n",
       "   '2025-06-28',\n",
       "   '2025-06-29',\n",
       "   '2025-06-30'],\n",
       "  'actual': [111, 101, 86, 97, 102, 110, 92],\n",
       "  'predicted': [108, 109, 92, 99, 96, 101, 103],\n",
       "  'total_actual': 699,\n",
       "  'total_predicted': 708},\n",
       " {'product': 'Bread Loaf',\n",
       "  'dates': ['2025-06-24',\n",
       "   '2025-06-25',\n",
       "   '2025-06-26',\n",
       "   '2025-06-27',\n",
       "   '2025-06-28',\n",
       "   '2025-06-29',\n",
       "   '2025-06-30'],\n",
       "  'actual': [71, 82, 73, 91, 90, 90, 75],\n",
       "  'predicted': [73, 83, 77, 89, 87, 90, 76],\n",
       "  'total_actual': 572,\n",
       "  'total_predicted': 575},\n",
       " {'product': 'Bananas (1kg)',\n",
       "  'dates': ['2025-06-24',\n",
       "   '2025-06-25',\n",
       "   '2025-06-26',\n",
       "   '2025-06-27',\n",
       "   '2025-06-28',\n",
       "   '2025-06-29',\n",
       "   '2025-06-30'],\n",
       "  'actual': [87, 104, 75, 96, 113, 104, 82],\n",
       "  'predicted': [87, 100, 77, 93, 106, 101, 83],\n",
       "  'total_actual': 661,\n",
       "  'total_predicted': 647},\n",
       " {'product': 'Tomatoes (1kg)',\n",
       "  'dates': ['2025-06-24',\n",
       "   '2025-06-25',\n",
       "   '2025-06-26',\n",
       "   '2025-06-27',\n",
       "   '2025-06-28',\n",
       "   '2025-06-29',\n",
       "   '2025-06-30'],\n",
       "  'actual': [88, 85, 100, 96, 82, 82, 90],\n",
       "  'predicted': [76, 112, 83, 84, 117, 98, 76],\n",
       "  'total_actual': 623,\n",
       "  'total_predicted': 646},\n",
       " {'product': 'Lettuce (1 head)',\n",
       "  'dates': ['2025-06-24',\n",
       "   '2025-06-25',\n",
       "   '2025-06-26',\n",
       "   '2025-06-27',\n",
       "   '2025-06-28',\n",
       "   '2025-06-29',\n",
       "   '2025-06-30'],\n",
       "  'actual': [54, 68, 75, 56, 80, 60, 54],\n",
       "  'predicted': [57, 70, 75, 61, 79, 63, 57],\n",
       "  'total_actual': 447,\n",
       "  'total_predicted': 462},\n",
       " {'product': 'Chicken (1kg)',\n",
       "  'dates': ['2025-06-24',\n",
       "   '2025-06-25',\n",
       "   '2025-06-26',\n",
       "   '2025-06-27',\n",
       "   '2025-06-28',\n",
       "   '2025-06-29',\n",
       "   '2025-06-30'],\n",
       "  'actual': [84, 88, 77, 77, 62, 74, 70],\n",
       "  'predicted': [82, 85, 78, 82, 72, 73, 72],\n",
       "  'total_actual': 532,\n",
       "  'total_predicted': 544}]"
      ]
     },
     "execution_count": 37,
     "metadata": {},
     "output_type": "execute_result"
    }
   ],
   "source": [
    "past_forecasts = []\n",
    "\n",
    "for i in df[\"product\"].unique():\n",
    "    past_forecasts.append(forecast_past(i))\n",
    "    \n",
    "past_forecasts"
   ]
  },
  {
   "cell_type": "code",
   "execution_count": 44,
   "id": "e706d933",
   "metadata": {},
   "outputs": [
    {
     "name": "stdout",
     "output_type": "stream",
     "text": [
      "Top-selling product: Milk (1L) (3052 units)\n"
     ]
    }
   ],
   "source": [
    "df = pd.read_csv(\"ML/freshcast_dataset.csv\")\n",
    "max_product = df.groupby(\"product\")[\"sales\"].sum().idxmax()\n",
    "max_sales = df.groupby(\"product\")[\"sales\"].sum().max()"
   ]
  },
  {
   "cell_type": "code",
   "execution_count": 45,
   "id": "283e6d56",
   "metadata": {},
   "outputs": [
    {
     "data": {
      "text/plain": [
       "{'product': 'Milk (1L)',\n",
       " 'dates': ['2025-07-01',\n",
       "  '2025-07-02',\n",
       "  '2025-07-03',\n",
       "  '2025-07-04',\n",
       "  '2025-07-05',\n",
       "  '2025-07-06',\n",
       "  '2025-07-07'],\n",
       " 'predicted': [92, 94, 91, 92, 92, 92, 96],\n",
       " 'total': 649}"
      ]
     },
     "execution_count": 45,
     "metadata": {},
     "output_type": "execute_result"
    }
   ],
   "source": [
    "forecast(max_product)"
   ]
  },
  {
   "cell_type": "code",
   "execution_count": 46,
   "id": "bc839646",
   "metadata": {},
   "outputs": [
    {
     "data": {
      "text/plain": [
       "{'product': 'Milk (1L)',\n",
       " 'dates': ['2025-06-24',\n",
       "  '2025-06-25',\n",
       "  '2025-06-26',\n",
       "  '2025-06-27',\n",
       "  '2025-06-28',\n",
       "  '2025-06-29',\n",
       "  '2025-06-30'],\n",
       " 'actual': [111, 101, 86, 97, 102, 110, 92],\n",
       " 'predicted': [108, 109, 92, 99, 96, 101, 103],\n",
       " 'total_actual': 699,\n",
       " 'total_predicted': 708,\n",
       " 'accuracy': 98.71244635193133}"
      ]
     },
     "execution_count": 46,
     "metadata": {},
     "output_type": "execute_result"
    }
   ],
   "source": [
    "forecast_past(max_product)"
   ]
  },
  {
   "cell_type": "code",
   "execution_count": null,
   "id": "357f1745",
   "metadata": {},
   "outputs": [],
   "source": []
  }
 ],
 "metadata": {
  "kernelspec": {
   "display_name": "Python 3",
   "language": "python",
   "name": "python3"
  },
  "language_info": {
   "codemirror_mode": {
    "name": "ipython",
    "version": 3
   },
   "file_extension": ".py",
   "mimetype": "text/x-python",
   "name": "python",
   "nbconvert_exporter": "python",
   "pygments_lexer": "ipython3",
   "version": "3.11.13"
  }
 },
 "nbformat": 4,
 "nbformat_minor": 5
}
